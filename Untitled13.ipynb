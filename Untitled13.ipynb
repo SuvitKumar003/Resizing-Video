{
  "cells": [
    {
      "cell_type": "code",
      "execution_count": null,
      "metadata": {
        "id": "41t44QocvbWO"
      },
      "outputs": [],
      "source": [
        "import cv2\n",
        "from IPython.display import Image\n"
      ]
    },
    {
      "cell_type": "code",
      "execution_count": null,
      "metadata": {
        "id": "imZm5n-1vesa"
      },
      "outputs": [],
      "source": [
        "video_path = '/content/stock-footage-nature-river-waterfall-forest-sun-morning-magical.mp4'  # Update with your video file path\n",
        "cap = cv2.VideoCapture(video_path)"
      ]
    },
    {
      "cell_type": "code",
      "execution_count": null,
      "metadata": {
        "id": "39fUikXPvhD0"
      },
      "outputs": [],
      "source": [
        "if not cap.isOpened():\n",
        "    print(\"Error: Couldn't open the video file.\")\n",
        "    exit()"
      ]
    },
    {
      "cell_type": "code",
      "execution_count": null,
      "metadata": {
        "id": "VJ-UaWUQvinE"
      },
      "outputs": [],
      "source": [
        "frame_width = int(cap.get(cv2.CAP_PROP_FRAME_WIDTH))\n",
        "frame_height = int(cap.get(cv2.CAP_PROP_FRAME_HEIGHT))\n"
      ]
    },
    {
      "cell_type": "code",
      "execution_count": null,
      "metadata": {
        "id": "oiOtQgKYvkMB"
      },
      "outputs": [],
      "source": [
        "fourcc = cv2.VideoWriter_fourcc(*'XVID')\n",
        "output_width = int(frame_width / 2)\n",
        "output_height = int(frame_height / 2)\n",
        "out = cv2.VideoWriter('output_resized_video.avi', fourcc, 20.0, (output_width, output_height))"
      ]
    },
    {
      "cell_type": "code",
      "execution_count": null,
      "metadata": {
        "colab": {
          "base_uri": "https://localhost:8080/",
          "height": 1000
        },
        "id": "rHr-0pHavnBz",
        "outputId": "57140923-a870-42ef-89a3-e2efd734e293"
      },
      "outputs": [],
      "source": [
        "while cap.isOpened():\n",
        "    ret, frame = cap.read()\n",
        "    if ret:\n",
        "        # Resize the frame to 50% smaller\n",
        "        resized_frame = cv2.resize(frame, (output_width, output_height), interpolation=cv2.INTER_AREA)\n",
        "        out.write(resized_frame)\n",
        "\n",
        "        # Save the resized frame as an image\n",
        "        cv2.imwrite('temp_frame.jpg', resized_frame)\n",
        "\n",
        "        # Display the resized frame\n",
        "        display(Image(filename='temp_frame.jpg'))\n",
        "\n",
        "        # Exit if 'q' is pressed\n",
        "        if cv2.waitKey(1) & 0xFF == ord('q'):\n",
        "            break\n",
        "    else:\n",
        "        break"
      ]
    },
    {
      "cell_type": "code",
      "execution_count": null,
      "metadata": {
        "id": "xl-wYx5nvrg7"
      },
      "outputs": [],
      "source": [
        "cap.release()\n",
        "out.release()"
      ]
    }
  ],
  "metadata": {
    "accelerator": "GPU",
    "colab": {
      "gpuType": "T4",
      "provenance": []
    },
    "kernelspec": {
      "display_name": "Python 3",
      "name": "python3"
    },
    "language_info": {
      "name": "python"
    }
  },
  "nbformat": 4,
  "nbformat_minor": 0
}
